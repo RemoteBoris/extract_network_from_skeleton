{
 "cells": [
  {
   "cell_type": "markdown",
   "id": "022e148d",
   "metadata": {},
   "source": [
    "# Network from skeleton demo\n",
    "Module designed to extract a network (as networkx graph, see [MultiGraph doc](https://networkx.org/documentation/stable/reference/classes/multigraph.html)) from a skeletonized array (such as the output of scikit-image skeletonize function for instance, see [Skeletonize doc](https://scikit-image.org/docs/stable/auto_examples/edges/plot_skeleton.html)). Skeleton input being a binary array where zeros represent the background and ones represent a single-pixel wide skeleton. "
   ]
  },
  {
   "cell_type": "code",
   "execution_count": 1,
   "id": "586e13e3",
   "metadata": {},
   "outputs": [],
   "source": [
    "import numpy as np\n",
    "import networkx as nx\n",
    "import matplotlib.pyplot as plt\n",
    "from network_from_skeleton import *"
   ]
  },
  {
   "cell_type": "code",
   "execution_count": 2,
   "id": "a7c0fb14",
   "metadata": {},
   "outputs": [],
   "source": [
    "example = np.array([\n",
    "    [0,1,0,0,0,0,0,0,0,0,0,0,0,0,0,0,0],\n",
    "    [0,1,0,1,1,1,0,0,1,1,1,0,0,0,0,0,0],\n",
    "    [0,1,1,1,0,0,1,0,1,0,1,0,0,0,0,0,0],\n",
    "    [1,0,1,0,0,0,0,1,1,1,1,0,0,0,0,0,0],\n",
    "    [0,0,1,0,0,0,1,0,0,0,1,0,0,0,1,0,0],\n",
    "    [0,0,1,0,0,0,1,0,0,0,1,0,1,0,1,0,0],\n",
    "    [0,0,1,0,0,0,1,0,0,0,1,0,0,1,1,0,0],\n",
    "    [0,1,1,1,1,1,1,1,1,1,1,0,1,0,1,0,0],\n",
    "    [1,0,1,0,0,0,0,0,0,0,0,1,0,0,1,0,0],\n",
    "    [1,0,1,0,0,1,0,0,0,0,0,0,0,0,0,0,0],\n",
    "    [1,0,1,1,0,1,0,0,1,1,1,0,0,0,0,0,0],\n",
    "    [0,1,0,0,1,1,1,1,0,0,0,1,0,0,1,1,1],\n",
    "    [0,1,0,1,0,1,0,0,1,0,0,0,1,1,0,0,1],\n",
    "    [0,0,1,0,0,1,0,0,1,0,0,1,0,0,1,1,1],\n",
    "    [0,0,0,0,0,1,1,1,1,1,0,1,1,0,0,0,0],\n",
    "    [0,0,0,0,0,0,0,1,0,1,0,0,1,1,1,1,0],\n",
    "    [0,0,0,0,0,0,0,1,0,1,0,1,0,0,0,1,0],\n",
    "    [0,0,0,0,1,1,1,1,1,1,0,0,1,1,1,1,1],\n",
    "])"
   ]
  },
  {
   "cell_type": "markdown",
   "id": "ada78baf",
   "metadata": {},
   "source": [
    "Let's take a look at our skeleton example."
   ]
  },
  {
   "cell_type": "code",
   "execution_count": 3,
   "id": "17d9ea4a",
   "metadata": {},
   "outputs": [
    {
     "data": {
      "text/plain": [
       "<matplotlib.image.AxesImage at 0x2374b9c77d0>"
      ]
     },
     "execution_count": 3,
     "metadata": {},
     "output_type": "execute_result"
    },
    {
     "data": {
      "image/png": "[encoded data removed]",
      "text/plain": [
       "<Figure size 640x480 with 1 Axes>"
      ]
     },
     "metadata": {},
     "output_type": "display_data"
    }
   ],
   "source": [
    "plt.imshow(example, cmap=plt.cm.binary)"
   ]
  },
  {
   "cell_type": "markdown",
   "id": "2bd4bfc4",
   "metadata": {},
   "source": [
    "Now extract the network."
   ]
  },
  {
   "cell_type": "code",
   "execution_count": 4,
   "id": "ad4384f2",
   "metadata": {},
   "outputs": [],
   "source": [
    "G = network_from_skeleton(example)"
   ]
  },
  {
   "cell_type": "markdown",
   "id": "703dc2a8",
   "metadata": {},
   "source": [
    "And visualize the result:"
   ]
  },
  {
   "cell_type": "code",
   "execution_count": 5,
   "id": "b833f9ed",
   "metadata": {
    "scrolled": false
   },
   "outputs": [
    {
     "data": {
      "text/plain": [
       "<matplotlib.collections.LineCollection at 0x2374ce43fe0>"
      ]
     },
     "execution_count": 5,
     "metadata": {},
     "output_type": "execute_result"
    },
    {
     "data": {
      "image/png": "[encoded data removed]",
      "text/plain": [
       "<Figure size 640x480 with 1 Axes>"
      ]
     },
     "metadata": {},
     "output_type": "display_data"
    }
   ],
   "source": [
    "pos=nx.get_node_attributes(G,'pos')\n",
    "fig, ax = plt.subplots()\n",
    "plt.imshow(example, cmap=plt.cm.binary)\n",
    "nx.draw_networkx_nodes(G,pos, node_size = 50, ax = ax)\n",
    "nx.draw_networkx_edges(G,pos, edge_color = \"red\", ax = ax)"
   ]
  },
  {
   "cell_type": "markdown",
   "id": "528ab2f9",
   "metadata": {},
   "source": [
    "Note that the visualization of edges (connections between nodes) by red lines is here only topological (which node connected to which node(s)) but they are weighted by the real length of the \"following-network\" lines, even if they are not visible on the plot (see \"weight\" edge attributes). Useful for calculating routing operations for example."
   ]
  },
  {
   "cell_type": "markdown",
   "id": "bbf8983b",
   "metadata": {},
   "source": [
    "Then we can leverage everything from networkx library, shortest path between two points for instance."
   ]
  },
  {
   "cell_type": "code",
   "execution_count": 6,
   "id": "60eb10d4",
   "metadata": {},
   "outputs": [],
   "source": [
    "source = (14,4)\n",
    "target = (4,17)\n",
    "source_key = [k for k, v in pos.items() if v == source][0]\n",
    "target_key = [k for k, v in pos.items() if v == target][0]"
   ]
  },
  {
   "cell_type": "code",
   "execution_count": 7,
   "id": "ecc0d718",
   "metadata": {},
   "outputs": [],
   "source": [
    "shortest_path = nx.shortest_path(G, source = source_key, target = target_key, weight=\"weight\", method='dijkstra')"
   ]
  },
  {
   "cell_type": "markdown",
   "id": "0431c7a6",
   "metadata": {},
   "source": [
    "And visualize the result:"
   ]
  },
  {
   "cell_type": "code",
   "execution_count": 8,
   "id": "a7e57980",
   "metadata": {
    "scrolled": false
   },
   "outputs": [
    {
     "data": {
      "text/plain": [
       "<matplotlib.collections.LineCollection at 0x2374ce8c8f0>"
      ]
     },
     "execution_count": 8,
     "metadata": {},
     "output_type": "execute_result"
    },
    {
     "data": {
      "image/png": "[encoded data removed]",
      "text/plain": [
       "<Figure size 640x480 with 1 Axes>"
      ]
     },
     "metadata": {},
     "output_type": "display_data"
    }
   ],
   "source": [
    "H = nx.subgraph(G, shortest_path)\n",
    "pos2=nx.get_node_attributes(H,'pos')\n",
    "fig, ax = plt.subplots()\n",
    "plt.imshow(example, cmap=plt.cm.binary)\n",
    "nx.draw_networkx_nodes(H ,pos2, node_size = 100, node_color='red', ax = ax)\n",
    "nx.draw_networkx_edges(H,pos, edge_color = \"red\", ax = ax)"
   ]
  }
 ],
 "metadata": {
  "kernelspec": {
   "display_name": "Python 3 (ipykernel)",
   "language": "python",
   "name": "python3"
  },
  "language_info": {
   "codemirror_mode": {
    "name": "ipython",
    "version": 3
   },
   "file_extension": ".py",
   "mimetype": "text/x-python",
   "name": "python",
   "nbconvert_exporter": "python",
   "pygments_lexer": "ipython3",
   "version": "3.12.3"
  }
 },
 "nbformat": 4,
 "nbformat_minor": 5
}
